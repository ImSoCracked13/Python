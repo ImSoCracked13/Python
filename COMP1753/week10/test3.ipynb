{
 "cells": [
  {
   "cell_type": "code",
   "execution_count": 4,
   "metadata": {},
   "outputs": [
    {
     "name": "stdout",
     "output_type": "stream",
     "text": [
      "The value of what = 256\n"
     ]
    }
   ],
   "source": [
    "what = 2\n",
    "for i in range(1, 4):\n",
    "    what = what * what\n",
    "print(\"The value of what = \" + str(what))"
   ]
  },
  {
   "cell_type": "code",
   "execution_count": 7,
   "metadata": {},
   "outputs": [],
   "source": [
    "n = 0\n",
    "for i in range(n):\n",
    "    s = \"\"\n",
    "    for j in range(n):\n",
    "        s += \"*\"\n",
    "    for j in range(n):\n",
    "        s += \"=\"\n",
    "    print(s)"
   ]
  }
 ],
 "metadata": {
  "kernelspec": {
   "display_name": "Python 3.10.6 64-bit",
   "language": "python",
   "name": "python3"
  },
  "language_info": {
   "codemirror_mode": {
    "name": "ipython",
    "version": 3
   },
   "file_extension": ".py",
   "mimetype": "text/x-python",
   "name": "python",
   "nbconvert_exporter": "python",
   "pygments_lexer": "ipython3",
   "version": "3.10.6"
  },
  "orig_nbformat": 4,
  "vscode": {
   "interpreter": {
    "hash": "bc8a87c1bd8bdfabb19c84168e4042c6747e1e7fa4af4512a4dc5861c0a44ae8"
   }
  }
 },
 "nbformat": 4,
 "nbformat_minor": 2
}
