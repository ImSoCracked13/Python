{
 "cells": [
  {
   "cell_type": "code",
   "execution_count": 4,
   "metadata": {},
   "outputs": [
    {
     "name": "stdout",
     "output_type": "stream",
     "text": [
      "3\n",
      "222 333 444\n",
      "Room number:  222\n"
     ]
    }
   ],
   "source": [
    "rooms = {'Dmitri': 222, 'Sasha': 333, 'Irina': 444}\n",
    "print(len(rooms))\n",
    "print(rooms['Dmitri'], rooms['Sasha'], rooms['Irina'])\n",
    "guest = input('Enter guest name: ')\n",
    "if guest in rooms:\n",
    "    print('Room number: ', rooms[guest])\n",
    "else:\n",
    "    print('No such guest')"
   ]
  },
  {
   "cell_type": "code",
   "execution_count": 15,
   "metadata": {},
   "outputs": [
    {
     "name": "stdout",
     "output_type": "stream",
     "text": [
      "Diablo :  9.0\n",
      "Mephisto:  9.5\n",
      "Baal   :  7.0\n",
      "Azmodan:  7.5\n",
      "Belial :  3.0\n",
      "Duriel :  4.0\n",
      "Andariel:  5.0\n"
     ]
    }
   ],
   "source": [
    "students = {'Diablo':9.0, 'Mephisto':9.5, 'Baal':7.0, 'Azmodan':7.5, 'Belial': 3.0,'Duriel': 4.0, 'Andariel': 5.0}\n",
    "for s, g in students.items():\n",
    "    print(f'{s:<7s}: {g:>4.1f}')"
   ]
  }
 ],
 "metadata": {
  "kernelspec": {
   "display_name": "Python 3.10.6 64-bit",
   "language": "python",
   "name": "python3"
  },
  "language_info": {
   "codemirror_mode": {
    "name": "ipython",
    "version": 3
   },
   "file_extension": ".py",
   "mimetype": "text/x-python",
   "name": "python",
   "nbconvert_exporter": "python",
   "pygments_lexer": "ipython3",
   "version": "3.10.6"
  },
  "orig_nbformat": 4,
  "vscode": {
   "interpreter": {
    "hash": "bc8a87c1bd8bdfabb19c84168e4042c6747e1e7fa4af4512a4dc5861c0a44ae8"
   }
  }
 },
 "nbformat": 4,
 "nbformat_minor": 2
}
