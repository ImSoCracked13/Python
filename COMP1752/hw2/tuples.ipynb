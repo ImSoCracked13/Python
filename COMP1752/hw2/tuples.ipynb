{
 "cells": [
  {
   "cell_type": "code",
   "execution_count": null,
   "metadata": {},
   "outputs": [],
   "source": [
    "a = (1, 2, 3)\n",
    "b = [1, 2, 3]\n",
    "\n",
    "a[0] = 4\n",
    "\n",
    "a[0] = 4 #Err"
   ]
  },
  {
   "cell_type": "code",
   "execution_count": 2,
   "metadata": {},
   "outputs": [
    {
     "name": "stdout",
     "output_type": "stream",
     "text": [
      "8 6\n",
      "(28, 22)\n"
     ]
    }
   ],
   "source": [
    "def decrease(a, b):\n",
    "    a -= 4\n",
    "    b -= 2\n",
    "    return a, b\n",
    "\n",
    "a, b = decrease(12, 8)\n",
    "print(a, b)\n",
    "c = decrease(32, 24)\n",
    "print(c)"
   ]
  },
  {
   "cell_type": "code",
   "execution_count": 3,
   "metadata": {},
   "outputs": [
    {
     "name": "stdout",
     "output_type": "stream",
     "text": [
      "1 Meloco\n",
      "2 Kotoka\n",
      "3 Zaion\n",
      "4 Hex\n",
      "5 Doppio\n",
      "6 Ver\n",
      "Meloco\n",
      "Kotoka\n",
      "Zaion\n",
      "Hex\n",
      "Doppio\n",
      "Ver\n",
      "1 Meloco\n",
      "2 Kotoka\n",
      "3 Zaion\n",
      "4 Hex\n",
      "5 Doppio\n",
      "6 Ver\n"
     ]
    }
   ],
   "source": [
    "xsoleil_names = [\"Meloco\", \"Kotoka\", \"Zaion\", \"Hex\", \"Doppio\", \"Ver\"]\n",
    "for i in range(len(xsoleil_names)):\n",
    "    print(i+1, xsoleil_names[i])\n",
    "for n in xsoleil_names:\n",
    "    print(n)\n",
    "for i, n in enumerate(xsoleil_names):\n",
    "    print(i + 1, n)"
   ]
  },
  {
   "cell_type": "code",
   "execution_count": 4,
   "metadata": {},
   "outputs": [
    {
     "name": "stdout",
     "output_type": "stream",
     "text": [
      "1 Astel 22\n",
      "2 Roberu 24\n",
      "3 Axel 20\n",
      "4 Vox 26\n",
      "1 Astel 22\n",
      "2 Roberu 24\n",
      "3 Axel 20\n",
      "4 Vox 26\n"
     ]
    }
   ],
   "source": [
    "winning_sons = [(\"Astel\", 22), (\"Roberu\", 24), (\"Axel\", 20), (\"Vox\", 26)]\n",
    "for i in range(len(winning_sons)):\n",
    "    print(i + 1, winning_sons[i][0], winning_sons[i][1])\n",
    "\n",
    "for i, s in enumerate(winning_sons):\n",
    "    print(i + 1, s[0], s[1])"
   ]
  },
  {
   "cell_type": "code",
   "execution_count": 5,
   "metadata": {},
   "outputs": [
    {
     "name": "stdout",
     "output_type": "stream",
     "text": [
      "[390, 866, 820, 362, 9, 616, 720, 855, 845, 411]\n"
     ]
    }
   ],
   "source": [
    "import random as rd\n",
    "numbers = [rd.randint(1,1000) for i in range(10)]\n",
    "print(numbers)"
   ]
  },
  {
   "cell_type": "code",
   "execution_count": 10,
   "metadata": {},
   "outputs": [
    {
     "name": "stdout",
     "output_type": "stream",
     "text": [
      "[9, 6, 2, 6, 0, 1, 2, 5, 4, 1]\n",
      "[-390, -866, -820, -362, -9, -616, -720, -855, -845, -411]\n"
     ]
    }
   ],
   "source": [
    "digits = [n % 100 // 10 for n in numbers]\n",
    "print(digits)\n",
    "negatives = [-n for n in numbers]\n",
    "print(negatives)"
   ]
  },
  {
   "cell_type": "code",
   "execution_count": 11,
   "metadata": {},
   "outputs": [
    {
     "ename": "AttributeError",
     "evalue": "'list' object has no attribute 'split'",
     "output_type": "error",
     "traceback": [
      "\u001b[1;31m---------------------------------------------------------------------------\u001b[0m",
      "\u001b[1;31mAttributeError\u001b[0m                            Traceback (most recent call last)",
      "\u001b[1;32mc:\\Users\\Phuc THUNDER\\OneDrive - nbk.edu.vn\\Desktop\\Studies\\Coding First Year\\HTML\\tuples.ipynb Cell 7\u001b[0m in \u001b[0;36m2\n\u001b[0;32m      <a href='vscode-notebook-cell:/c%3A/Users/Phuc%20THUNDER/OneDrive%20-%20nbk.edu.vn/Desktop/Studies/Coding%20First%20Year/HTML/tuples.ipynb#W6sZmlsZQ%3D%3D?line=0'>1</a>\u001b[0m council \u001b[39m=\u001b[39m [\u001b[39m'\u001b[39m\u001b[39mCeres Fauna\u001b[39m\u001b[39m'\u001b[39m, \u001b[39m'\u001b[39m\u001b[39mOuro Kronii\u001b[39m\u001b[39m'\u001b[39m, \u001b[39m'\u001b[39m\u001b[39mHakos Baelz\u001b[39m\u001b[39m'\u001b[39m, \u001b[39m'\u001b[39m\u001b[39mNanashi Mumei\u001b[39m\u001b[39m'\u001b[39m, \u001b[39m'\u001b[39m\u001b[39mTsukumo Sana\u001b[39m\u001b[39m'\u001b[39m]\n\u001b[1;32m----> <a href='vscode-notebook-cell:/c%3A/Users/Phuc%20THUNDER/OneDrive%20-%20nbk.edu.vn/Desktop/Studies/Coding%20First%20Year/HTML/tuples.ipynb#W6sZmlsZQ%3D%3D?line=1'>2</a>\u001b[0m spl \u001b[39m=\u001b[39m council\u001b[39m.\u001b[39;49msplit()\n\u001b[0;32m      <a href='vscode-notebook-cell:/c%3A/Users/Phuc%20THUNDER/OneDrive%20-%20nbk.edu.vn/Desktop/Studies/Coding%20First%20Year/HTML/tuples.ipynb#W6sZmlsZQ%3D%3D?line=2'>3</a>\u001b[0m \u001b[39mprint\u001b[39m(spl)\n",
      "\u001b[1;31mAttributeError\u001b[0m: 'list' object has no attribute 'split'"
     ]
    }
   ],
   "source": [
    "council = ['Ceres Fauna', 'Ouro Kronii', 'Hakos Baelz', 'Nanashi Mumei', 'Tsukumo Sana']\n",
    "spl = council.split()\n",
    "print(spl)\n"
   ]
  },
  {
   "cell_type": "code",
   "execution_count": 3,
   "metadata": {},
   "outputs": [
    {
     "name": "stdout",
     "output_type": "stream",
     "text": [
      "pennyless\n"
     ]
    }
   ],
   "source": [
    "words = {'broke': 'pennyless', 'cringe': 'dumb', 'rizzler': 'womanizer', 'mald': 'raging bald'}\n",
    "w = input('Enter a word: ')\n",
    "if w in words:\n",
    "    print(words[w])\n",
    "else:\n",
    "    print('Not found')"
   ]
  },
  {
   "cell_type": "code",
   "execution_count": 2,
   "metadata": {},
   "outputs": [
    {
     "ename": "NameError",
     "evalue": "name 'words' is not defined",
     "output_type": "error",
     "traceback": [
      "\u001b[1;31m---------------------------------------------------------------------------\u001b[0m",
      "\u001b[1;31mNameError\u001b[0m                                 Traceback (most recent call last)",
      "\u001b[1;32mc:\\Users\\Phuc THUNDER\\OneDrive - nbk.edu.vn\\Desktop\\Studies\\Coding First Year\\HTML\\tuples.ipynb Cell 9\u001b[0m in \u001b[0;36m2\n\u001b[0;32m      <a href='vscode-notebook-cell:/c%3A/Users/Phuc%20THUNDER/OneDrive%20-%20nbk.edu.vn/Desktop/Studies/Coding%20First%20Year/HTML/tuples.ipynb#X11sZmlsZQ%3D%3D?line=0'>1</a>\u001b[0m w \u001b[39m=\u001b[39m \u001b[39minput\u001b[39m(\u001b[39m'\u001b[39m\u001b[39mEnter a new word: \u001b[39m\u001b[39m'\u001b[39m)\n\u001b[1;32m----> <a href='vscode-notebook-cell:/c%3A/Users/Phuc%20THUNDER/OneDrive%20-%20nbk.edu.vn/Desktop/Studies/Coding%20First%20Year/HTML/tuples.ipynb#X11sZmlsZQ%3D%3D?line=1'>2</a>\u001b[0m \u001b[39mif\u001b[39;00m w \u001b[39min\u001b[39;00m words:\n\u001b[0;32m      <a href='vscode-notebook-cell:/c%3A/Users/Phuc%20THUNDER/OneDrive%20-%20nbk.edu.vn/Desktop/Studies/Coding%20First%20Year/HTML/tuples.ipynb#X11sZmlsZQ%3D%3D?line=2'>3</a>\u001b[0m     \u001b[39mprint\u001b[39m(\u001b[39mf\u001b[39m\u001b[39m'\u001b[39m\u001b[39m{\u001b[39;00mw\u001b[39m}\u001b[39;00m\u001b[39m is a already in the dictionary\u001b[39m\u001b[39m'\u001b[39m)\n\u001b[0;32m      <a href='vscode-notebook-cell:/c%3A/Users/Phuc%20THUNDER/OneDrive%20-%20nbk.edu.vn/Desktop/Studies/Coding%20First%20Year/HTML/tuples.ipynb#X11sZmlsZQ%3D%3D?line=3'>4</a>\u001b[0m \u001b[39melse\u001b[39;00m:\n",
      "\u001b[1;31mNameError\u001b[0m: name 'words' is not defined"
     ]
    }
   ],
   "source": [
    "w = input('Enter a new word: ')\n",
    "if w in words:\n",
    "    print(f'{w} is a already in the dictionary')\n",
    "else:\n",
    "    words[w] = input('Enter the meaning:')\n",
    "print(words)"
   ]
  },
  {
   "cell_type": "code",
   "execution_count": 4,
   "metadata": {},
   "outputs": [
    {
     "name": "stdout",
     "output_type": "stream",
     "text": [
      "{'broke': 'poor', 'cringe': 'dumb', 'rizzler': 'womanizer', 'mald': 'raging bald'}\n"
     ]
    }
   ],
   "source": [
    "w = input('Enter a word to change: ')\n",
    "if w in words:\n",
    "    meaning = input('Enter the new meaning: ')\n",
    "    words[w] = meaning \n",
    "else:\n",
    "    print('Not found')\n",
    "print(words)"
   ]
  },
  {
   "cell_type": "code",
   "execution_count": 5,
   "metadata": {},
   "outputs": [],
   "source": [
    "w = input('Enter a word to delete: ')\n",
    "if w in words:\n",
    "    del words[w]\n",
    "else:\n",
    "    print('Not found')\n",
    "    print(words)"
   ]
  },
  {
   "cell_type": "code",
   "execution_count": 10,
   "metadata": {},
   "outputs": [
    {
     "name": "stdout",
     "output_type": "stream",
     "text": [
      "Screw you\n"
     ]
    }
   ],
   "source": [
    "abbriviations = {'CPU': 'Computing Processing Unit', 'GPU': 'Graphic Processing Unit', 'RAM': 'Random Access Memory', 'PSU': 'Power Supply Unit', 'HDMI': 'High-Definition Multimedia Interface', 'USB': 'Universal Serial Bus'}\n",
    "updater = True\n",
    "while updater:\n",
    "    ab = input('Enter an abbriviation: ')\n",
    "    if ab in abbriviations:\n",
    "        print('This abbriviation means', abbriviations[ab])\n",
    "    elif ab == '.':\n",
    "        print(abbriviations)\n",
    "    elif ab == 'quit':\n",
    "        print('Screw you')\n",
    "        updater = False\n",
    "    else:\n",
    "        ask = input(\"This abbriviations does not exist, would you like to add to the dictionary[yes/no]?\")\n",
    "        if ask == 'yes':\n",
    "            abbriviations[ab] = input('What is the meaning?')\n",
    "            print(abbriviations)\n",
    "        elif ask == 'no':\n",
    "            print('Peace Out')\n",
    "\n",
    "\n",
    "\n"
   ]
  },
  {
   "cell_type": "code",
   "execution_count": null,
   "metadata": {},
   "outputs": [],
   "source": [
    "def print_abbriviation():\n",
    "    while updater:\n",
    "        abbriviation = input('Enter an abbriviation ')\n",
    "        if abbriviation == '.':\n",
    "            for key in abbriviations:\n",
    "                print(key, ':', abbriviations[key])\n",
    "        elif abbriviation == 'quit':\n",
    "            print('Bye')\n",
    "            updater = False\n",
    "        elif abbriviation in abbriviations:\n",
    "            print(abbriviation, ':', abbriviations[abbriviation])\n",
    "        else:\n",
    "            answer = input('New abbriviation here. Wanna add it in the Dict?[y/n]?')\n",
    "            if answer == 'y':\n",
    "                "
   ]
  },
  {
   "cell_type": "code",
   "execution_count": 8,
   "metadata": {},
   "outputs": [
    {
     "name": "stdout",
     "output_type": "stream",
     "text": [
      "{'CPU': 'Computing Processing Unit', 'GPU': 'Graphic Processing Unit', 'RAM': 'Random Access Memory', 'PSU': 'Power Supply Unit', 'HDMI': 'High-Definition Multimedia Interface', 'USB': 'Universal Serial Bus', 'LCD': 'Liquid Crystal Display'}\n"
     ]
    }
   ],
   "source": [
    "ab = input('Enter a new word: ')\n",
    "if ab in abbriviations:\n",
    "    print(f'{ab} is a already in the dictionary')\n",
    "else:\n",
    "    abbriviations[ab] = input('Enter the meaning:')\n",
    "print(abbriviations)\n",
    "print()"
   ]
  }
 ],
 "metadata": {
  "kernelspec": {
   "display_name": "Python 3",
   "language": "python",
   "name": "python3"
  },
  "language_info": {
   "codemirror_mode": {
    "name": "ipython",
    "version": 3
   },
   "file_extension": ".py",
   "mimetype": "text/x-python",
   "name": "python",
   "nbconvert_exporter": "python",
   "pygments_lexer": "ipython3",
   "version": "3.10.6"
  },
  "orig_nbformat": 4
 },
 "nbformat": 4,
 "nbformat_minor": 2
}
